{
  "nbformat": 4,
  "nbformat_minor": 0,
  "metadata": {
    "colab": {
      "provenance": [],
      "include_colab_link": true
    },
    "kernelspec": {
      "name": "python3",
      "display_name": "Python 3"
    },
    "language_info": {
      "name": "python"
    }
  },
  "cells": [
    {
      "cell_type": "markdown",
      "metadata": {
        "id": "view-in-github",
        "colab_type": "text"
      },
      "source": [
        "<a href=\"https://colab.research.google.com/github/Fadelhamkaa/ML_Naive-Bayes_Manual-/blob/main/LP4_Muhammad_Fadel_Hamka_60200122116.ipynb\" target=\"_parent\"><img src=\"https://colab.research.google.com/assets/colab-badge.svg\" alt=\"Open In Colab\"/></a>"
      ]
    },
    {
      "cell_type": "code",
      "execution_count": null,
      "metadata": {
        "colab": {
          "base_uri": "https://localhost:8080/"
        },
        "id": "oO9-x9lE-wZ8",
        "outputId": "3cd37e0e-7de7-48b6-c5b5-d8f1b4b3fc58"
      },
      "outputs": [
        {
          "output_type": "stream",
          "name": "stdout",
          "text": [
            "Dataset:\n",
            "  Harga Tanah Jarak dai pusat kota Ada angkutan umum Dipilih untuk perumahan\n",
            "0       Murah                Dekat             Tidak                     Iya\n",
            "1      Sedang                Dekat             Tidak                     Iya\n",
            "2       Mahal                Dekat             Tidak                     Iya\n",
            "3       Mahal                 Jauh             Tidak                   Tidak\n",
            "4       Mahal               Sedang             Tidak                   Tidak\n",
            "5      Sedang                 Jauh               Ada                   Tidak\n",
            "6       Murah                 Jauh               Ada                   Tidak\n",
            "7       Murah               Sedang             Tidak                     Iya\n",
            "8       Mahal                 Jauh               Ada                   Tidak\n",
            "9      Sedang               Sedang               Ada                     Iya\n"
          ]
        }
      ],
      "source": [
        "# Import library yang diperlukan\n",
        "import numpy as np\n",
        "import pandas as pd\n",
        "from sklearn.preprocessing import LabelEncoder\n",
        "from collections import defaultdict\n",
        "from sklearn.metrics import accuracy_score, classification_report\n",
        "\n",
        "# Load dataset\n",
        "df = pd.read_excel('/content/Lokasi Perumahan.xlsx')\n",
        "print(\"Dataset:\")\n",
        "print(df)"
      ]
    },
    {
      "cell_type": "code",
      "source": [
        "# Encode fitur kategorikal ke nilai numerik\n",
        "le = LabelEncoder()\n",
        "encoded_df = df.copy()\n",
        "\n",
        "for col in encoded_df.columns:\n",
        "    encoded_df[col] = le.fit_transform(encoded_df[col])\n",
        "\n",
        "print(\"Dataset setelah encoding:\")\n",
        "print(encoded_df)"
      ],
      "metadata": {
        "colab": {
          "base_uri": "https://localhost:8080/"
        },
        "id": "4sL_wrdDfWWb",
        "outputId": "234c7130-1086-4d84-f286-28c6425a1988"
      },
      "execution_count": null,
      "outputs": [
        {
          "output_type": "stream",
          "name": "stdout",
          "text": [
            "Dataset setelah encoding:\n",
            "   Harga Tanah  Jarak dai pusat kota  Ada angkutan umum  \\\n",
            "0            1                     0                  1   \n",
            "1            2                     0                  1   \n",
            "2            0                     0                  1   \n",
            "3            0                     1                  1   \n",
            "4            0                     2                  1   \n",
            "5            2                     1                  0   \n",
            "6            1                     1                  0   \n",
            "7            1                     2                  1   \n",
            "8            0                     1                  0   \n",
            "9            2                     2                  0   \n",
            "\n",
            "   Dipilih untuk perumahan  \n",
            "0                        0  \n",
            "1                        0  \n",
            "2                        0  \n",
            "3                        1  \n",
            "4                        1  \n",
            "5                        1  \n",
            "6                        1  \n",
            "7                        0  \n",
            "8                        1  \n",
            "9                        0  \n"
          ]
        }
      ]
    },
    {
      "cell_type": "code",
      "source": [
        "# Menghitung probabilitas prior\n",
        "label_counts = encoded_df['Dipilih untuk perumahan'].value_counts()\n",
        "total_samples = len(encoded_df)\n",
        "prior_probs = label_counts / total_samples\n",
        "\n",
        "# Menghitung probabilitas likelihood\n",
        "feature_probs = defaultdict(lambda: defaultdict(lambda: defaultdict(float)))\n",
        "features = ['Harga Tanah', 'Jarak dai pusat kota', 'Ada angkutan umum']\n",
        "target = 'Dipilih untuk perumahan'\n",
        "\n",
        "for feature in features:\n",
        "    for value in encoded_df[feature].unique():\n",
        "        for class_value in encoded_df[target].unique():\n",
        "            num = len(encoded_df[(encoded_df[feature] == value) & (encoded_df[target] == class_value)])\n",
        "            den = label_counts[class_value]\n",
        "            feature_probs[feature][value][class_value] = num / den if den != 0 else 0\n",
        "\n",
        "print(\"\\nProbabilitas Prior:\")\n",
        "print(prior_probs)\n",
        "\n",
        "print(\"\\nProbabilitas Likelihood:\")\n",
        "for feature in features:\n",
        "    print(f\"\\n{feature}:\")\n",
        "    for value in feature_probs[feature]:\n",
        "        for class_value in feature_probs[feature][value]:\n",
        "            print(f\"P({feature}={value} | Kelas={class_value}) = {feature_probs[feature][value][class_value]:.4f}\")"
      ],
      "metadata": {
        "colab": {
          "base_uri": "https://localhost:8080/"
        },
        "id": "uaBNMmh6fWaG",
        "outputId": "43d363dc-e70d-4228-d206-eb97c9457b83"
      },
      "execution_count": null,
      "outputs": [
        {
          "output_type": "stream",
          "name": "stdout",
          "text": [
            "\n",
            "Probabilitas Prior:\n",
            "Dipilih untuk perumahan\n",
            "0    0.5\n",
            "1    0.5\n",
            "Name: count, dtype: float64\n",
            "\n",
            "Probabilitas Likelihood:\n",
            "\n",
            "Harga Tanah:\n",
            "P(Harga Tanah=1 | Kelas=0) = 0.4000\n",
            "P(Harga Tanah=1 | Kelas=1) = 0.2000\n",
            "P(Harga Tanah=2 | Kelas=0) = 0.4000\n",
            "P(Harga Tanah=2 | Kelas=1) = 0.2000\n",
            "P(Harga Tanah=0 | Kelas=0) = 0.2000\n",
            "P(Harga Tanah=0 | Kelas=1) = 0.6000\n",
            "\n",
            "Jarak dai pusat kota:\n",
            "P(Jarak dai pusat kota=0 | Kelas=0) = 0.6000\n",
            "P(Jarak dai pusat kota=0 | Kelas=1) = 0.0000\n",
            "P(Jarak dai pusat kota=1 | Kelas=0) = 0.0000\n",
            "P(Jarak dai pusat kota=1 | Kelas=1) = 0.8000\n",
            "P(Jarak dai pusat kota=2 | Kelas=0) = 0.4000\n",
            "P(Jarak dai pusat kota=2 | Kelas=1) = 0.2000\n",
            "\n",
            "Ada angkutan umum:\n",
            "P(Ada angkutan umum=1 | Kelas=0) = 0.8000\n",
            "P(Ada angkutan umum=1 | Kelas=1) = 0.4000\n",
            "P(Ada angkutan umum=0 | Kelas=0) = 0.2000\n",
            "P(Ada angkutan umum=0 | Kelas=1) = 0.6000\n"
          ]
        }
      ]
    },
    {
      "cell_type": "code",
      "source": [
        "import pandas as pd\n",
        "\n",
        "# Fungsi untuk menghitung probabilitas posterior berdasarkan prior dan likelihood\n",
        "def calculate_posterior(sample, prior_probs, feature_probs):\n",
        "    posterior_probs = {}\n",
        "\n",
        "    for class_value in prior_probs.index:\n",
        "        # Inisialisasi probabilitas posterior dengan probabilitas prior\n",
        "        posterior = prior_probs[class_value]\n",
        "\n",
        "        # Kalikan dengan likelihood dari setiap fitur dalam sample\n",
        "        for feature in sample.index:\n",
        "            feature_value = sample[feature]\n",
        "\n",
        "            # Menghitung likelihood untuk setiap fitur dan kelas\n",
        "            if feature_value in feature_probs[feature]:\n",
        "                likelihood = feature_probs[feature][feature_value].get(class_value, 0)\n",
        "            else:\n",
        "                likelihood = 0  # Jika fitur tidak ditemukan dalam kelas, beri nilai 0\n",
        "\n",
        "            # Jika likelihood adalah 0, maka posterior menjadi 0\n",
        "            if likelihood == 0:\n",
        "                posterior = 0\n",
        "                break  # Jika salah satu likelihood 0, posterior menjadi 0\n",
        "\n",
        "            # Kalikan posterior dengan likelihood\n",
        "            posterior *= likelihood\n",
        "\n",
        "        posterior_probs[class_value] = posterior\n",
        "\n",
        "    return posterior_probs\n",
        "\n",
        "# Dataset dan probabilitas prior (contoh)\n",
        "feature_probs = {\n",
        "    'Harga Tanah': {\n",
        "        0: {0: 0.2, 1: 0.6},  # Probabilitas untuk Harga Tanah = Mahal\n",
        "        1: {0: 0.4, 1: 0.2},  # Probabilitas untuk Harga Tanah = Murah\n",
        "        2: {0: 0.4, 1: 0.2}   # Probabilitas untuk Harga Tanah = Sedang\n",
        "    },\n",
        "    'Jarak dari pusat kota': {\n",
        "        0: {0: 0.6, 1: 0.0},  # Probabilitas untuk Jarak = Dekat\n",
        "        1: {0: 0.0, 1: 0.8},  # Probabilitas untuk Jarak = Jauh\n",
        "        2: {0: 0.4, 1: 0.2}   # Probabilitas untuk Jarak = Sedang\n",
        "    },\n",
        "    'Ada angkutan umum': {\n",
        "        0: {0: 0.2, 1: 0.6},  # Probabilitas untuk Ada angkutan umum = Tidak\n",
        "        1: {0: 0.8, 1: 0.4}   # Probabilitas untuk Ada angkutan umum = Ada\n",
        "    }\n",
        "}\n",
        "\n",
        "# Probabilitas prior (misalnya, berdasarkan data training set)\n",
        "prior_probs = pd.Series({\n",
        "    0: 0.5,  # Kelas Iya (0)\n",
        "    1: 0.5   # Kelas Tidak (1)\n",
        "})\n",
        "\n",
        "# Tiga sampel data baru untuk prediksi\n",
        "sample_data_list = [\n",
        "    pd.Series({'Harga Tanah': 1, 'Jarak dari pusat kota': 1, 'Ada angkutan umum': 1}),  # Murah, Jauh, Tidak\n",
        "    pd.Series({'Harga Tanah': 0, 'Jarak dari pusat kota': 0, 'Ada angkutan umum': 0}),  # Mahal, Dekat, Ada\n",
        "    pd.Series({'Harga Tanah': 0, 'Jarak dari pusat kota': 1, 'Ada angkutan umum': 1})   # Mahal, Jauh, Tidak\n",
        "]\n",
        "\n",
        "# Menampilkan kelas yang lebih mudah dibaca\n",
        "kelas_map = {0: \"Iya\", 1: \"Tidak\"}\n",
        "\n",
        "# Prediksi untuk setiap sampel\n",
        "for i, sample_data in enumerate(sample_data_list, 1):\n",
        "    # Hitung probabilitas posterior untuk sample data baru\n",
        "    posterior_probs = calculate_posterior(sample_data, prior_probs, feature_probs)\n",
        "\n",
        "    # Menampilkan probabilitas posterior dengan format desimal\n",
        "    print(f\"\\nPrediksi untuk Sampel {i}:\")\n",
        "    for class_value, posterior in posterior_probs.items():\n",
        "        print(f\"P(Kelas={kelas_map[class_value]} | Data) = {posterior:.4f}\")  # Format 4 desimal\n",
        "\n",
        "    # Menentukan prediksi kelas dengan probabilitas tertinggi\n",
        "    predicted_class = max(posterior_probs, key=posterior_probs.get)\n",
        "    print(f\"Kelas yang diprediksi: {kelas_map[predicted_class]}\")"
      ],
      "metadata": {
        "colab": {
          "base_uri": "https://localhost:8080/"
        },
        "id": "xKMUX03gfWdY",
        "outputId": "1123009f-5166-42ee-c88d-65a580ebf22e"
      },
      "execution_count": null,
      "outputs": [
        {
          "output_type": "stream",
          "name": "stdout",
          "text": [
            "\n",
            "Prediksi untuk Sampel 1:\n",
            "P(Kelas=Iya | Data) = 0.0000\n",
            "P(Kelas=Tidak | Data) = 0.0320\n",
            "Kelas yang diprediksi: Tidak\n",
            "\n",
            "Prediksi untuk Sampel 2:\n",
            "P(Kelas=Iya | Data) = 0.0120\n",
            "P(Kelas=Tidak | Data) = 0.0000\n",
            "Kelas yang diprediksi: Iya\n",
            "\n",
            "Prediksi untuk Sampel 3:\n",
            "P(Kelas=Iya | Data) = 0.0000\n",
            "P(Kelas=Tidak | Data) = 0.0960\n",
            "Kelas yang diprediksi: Tidak\n"
          ]
        }
      ]
    },
    {
      "cell_type": "code",
      "source": [
        "from sklearn.model_selection import train_test_split\n",
        "\n",
        "# Fungsi evaluasi dengan split data\n",
        "def evaluate_with_split(X, y, train_size):\n",
        "    # Membagi data menjadi training dan testing\n",
        "    X_train, X_test, y_train, y_test = train_test_split(X, y, train_size=train_size, random_state=42)\n",
        "\n",
        "    # Menghitung prior probabilities untuk data training\n",
        "    train_prior_probs = y_train.value_counts(normalize=True)\n",
        "\n",
        "    # Menghitung likelihood probabilities untuk data training\n",
        "    train_feature_probs = defaultdict(lambda: defaultdict(lambda: defaultdict(float)))\n",
        "    for feature in X_train.columns:\n",
        "        for value in X_train[feature].unique():\n",
        "            for class_value in y_train.unique():\n",
        "                num = len(X_train[(X_train[feature] == value) & (y_train == class_value)])\n",
        "                den = y_train.value_counts()[class_value]\n",
        "                train_feature_probs[feature][value][class_value] = num / den if den != 0 else 0\n",
        "\n",
        "    # Prediksi pada data testing\n",
        "    def predict_row(row):\n",
        "        posterior_probs = calculate_posterior(row, train_prior_probs, train_feature_probs)\n",
        "        return max(posterior_probs, key=posterior_probs.get)\n",
        "\n",
        "    y_pred = X_test.apply(predict_row, axis=1)\n",
        "\n",
        "    # Evaluasi model\n",
        "    accuracy = accuracy_score(y_test, y_pred)\n",
        "    report = classification_report(y_test, y_pred, output_dict=True)\n",
        "\n",
        "    return accuracy, report\n",
        "\n",
        "# Split dengan 80% Training dan 20% Testing\n",
        "X = encoded_df.drop(columns='Dipilih untuk perumahan')\n",
        "y = encoded_df['Dipilih untuk perumahan']\n",
        "\n",
        "results = {}\n",
        "\n",
        "# Evaluasi dengan 80% Training, 20% Testing\n",
        "accuracy_80, report_80 = evaluate_with_split(X, y, 0.8)\n",
        "results[\"80% Training, 20% Testing\"] = {\"accuracy\": accuracy_80, \"report\": report_80}\n",
        "\n",
        "# Evaluasi dengan 70% Training, 30% Testing\n",
        "accuracy_70, report_70 = evaluate_with_split(X, y, 0.7)\n",
        "results[\"70% Training, 30% Testing\"] = {\"accuracy\": accuracy_70, \"report\": report_70}\n",
        "\n",
        "# Evaluasi dengan 60% Training, 40% Testing\n",
        "accuracy_60, report_60 = evaluate_with_split(X, y, 0.6)\n",
        "results[\"60% Training, 40% Testing\"] = {\"accuracy\": accuracy_60, \"report\": report_60}\n",
        "\n",
        "# Menampilkan hasil\n",
        "for key, value in results.items():\n",
        "    print(f\"\\n{key}:\")\n",
        "    print(f\"Akurasi: {value['accuracy']:.2f}\")\n",
        "    print(f\"Laporan Klasifikasi:\")\n",
        "    print(value['report'])"
      ],
      "metadata": {
        "colab": {
          "base_uri": "https://localhost:8080/"
        },
        "id": "6C7DIn3OfWgS",
        "outputId": "d650508b-91af-4452-aa0d-4158d5f211f4"
      },
      "execution_count": null,
      "outputs": [
        {
          "output_type": "stream",
          "name": "stdout",
          "text": [
            "\n",
            "80% Training, 20% Testing:\n",
            "Akurasi: 1.00\n",
            "Laporan Klasifikasi:\n",
            "{'0': {'precision': 1.0, 'recall': 1.0, 'f1-score': 1.0, 'support': 1.0}, '1': {'precision': 1.0, 'recall': 1.0, 'f1-score': 1.0, 'support': 1.0}, 'accuracy': 1.0, 'macro avg': {'precision': 1.0, 'recall': 1.0, 'f1-score': 1.0, 'support': 2.0}, 'weighted avg': {'precision': 1.0, 'recall': 1.0, 'f1-score': 1.0, 'support': 2.0}}\n",
            "\n",
            "70% Training, 30% Testing:\n",
            "Akurasi: 0.67\n",
            "Laporan Klasifikasi:\n",
            "{'0': {'precision': 0.5, 'recall': 1.0, 'f1-score': 0.6666666666666666, 'support': 1.0}, '1': {'precision': 1.0, 'recall': 0.5, 'f1-score': 0.6666666666666666, 'support': 2.0}, 'accuracy': 0.6666666666666666, 'macro avg': {'precision': 0.75, 'recall': 0.75, 'f1-score': 0.6666666666666666, 'support': 3.0}, 'weighted avg': {'precision': 0.8333333333333334, 'recall': 0.6666666666666666, 'f1-score': 0.6666666666666666, 'support': 3.0}}\n",
            "\n",
            "60% Training, 40% Testing:\n",
            "Akurasi: 0.75\n",
            "Laporan Klasifikasi:\n",
            "{'0': {'precision': 0.6666666666666666, 'recall': 1.0, 'f1-score': 0.8, 'support': 2.0}, '1': {'precision': 1.0, 'recall': 0.5, 'f1-score': 0.6666666666666666, 'support': 2.0}, 'accuracy': 0.75, 'macro avg': {'precision': 0.8333333333333333, 'recall': 0.75, 'f1-score': 0.7333333333333334, 'support': 4.0}, 'weighted avg': {'precision': 0.8333333333333333, 'recall': 0.75, 'f1-score': 0.7333333333333334, 'support': 4.0}}\n"
          ]
        }
      ]
    },
    {
      "cell_type": "markdown",
      "source": [
        "## ***REMINDER FOR ME: MAKE SURE TO CLEAN CODE FOR FUTURE UNDERSTANDING***"
      ],
      "metadata": {
        "id": "IhqIHLeT8y1V"
      }
    }
  ]
}