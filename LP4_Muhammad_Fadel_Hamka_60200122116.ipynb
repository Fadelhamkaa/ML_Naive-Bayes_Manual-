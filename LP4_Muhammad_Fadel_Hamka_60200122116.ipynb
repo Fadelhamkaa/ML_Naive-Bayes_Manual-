{
  "nbformat": 4,
  "nbformat_minor": 0,
  "metadata": {
    "colab": {
      "provenance": [],
      "collapsed_sections": [
        "PtmcDeCKNloY"
      ],
      "include_colab_link": true
    },
    "kernelspec": {
      "name": "python3",
      "display_name": "Python 3"
    },
    "language_info": {
      "name": "python"
    }
  },
  "cells": [
    {
      "cell_type": "markdown",
      "metadata": {
        "id": "view-in-github",
        "colab_type": "text"
      },
      "source": [
        "<a href=\"https://colab.research.google.com/github/Fadelhamkaa/ML_Naive-Bayes_Manual-/blob/main/LP4_Muhammad_Fadel_Hamka_60200122116.ipynb\" target=\"_parent\"><img src=\"https://colab.research.google.com/assets/colab-badge.svg\" alt=\"Open In Colab\"/></a>"
      ]
    },
    {
      "cell_type": "code",
      "execution_count": 1,
      "metadata": {
        "colab": {
          "base_uri": "https://localhost:8080/"
        },
        "id": "oO9-x9lE-wZ8",
        "outputId": "a2ca9645-bf59-4da3-986b-b8ba6aa9aac0"
      },
      "outputs": [
        {
          "output_type": "stream",
          "name": "stdout",
          "text": [
            "Dataset:\n",
            "  Harga Tanah Jarak dai pusat kota Ada angkutan umum Dipilih untuk perumahan\n",
            "0       Murah                Dekat             Tidak                     Iya\n",
            "1      Sedang                Dekat             Tidak                     Iya\n",
            "2       Mahal                Dekat             Tidak                     Iya\n",
            "3       Mahal                 Jauh             Tidak                   Tidak\n",
            "4       Mahal               Sedang             Tidak                   Tidak\n",
            "5      Sedang                 Jauh               Ada                   Tidak\n",
            "6       Murah                 Jauh               Ada                   Tidak\n",
            "7       Murah               Sedang             Tidak                     Iya\n",
            "8       Mahal                 Jauh               Ada                   Tidak\n",
            "9      Sedang               Sedang               Ada                     Iya\n"
          ]
        }
      ],
      "source": [
        "# Import library yang diperlukan\n",
        "import numpy as np\n",
        "import pandas as pd\n",
        "from sklearn.preprocessing import LabelEncoder\n",
        "from collections import defaultdict\n",
        "from sklearn.metrics import accuracy_score, classification_report\n",
        "\n",
        "# Load dataset\n",
        "df = pd.read_excel('/content/Lokasi Perumahan.xlsx')\n",
        "print(\"Dataset:\")\n",
        "print(df)"
      ]
    },
    {
      "cell_type": "code",
      "source": [
        "# Encode fitur kategorikal ke nilai numerik\n",
        "le = LabelEncoder()\n",
        "encoded_df = df.copy()\n",
        "\n",
        "for col in encoded_df.columns:\n",
        "    encoded_df[col] = le.fit_transform(encoded_df[col])\n",
        "\n",
        "print(\"Dataset setelah encoding:\")\n",
        "print(encoded_df)"
      ],
      "metadata": {
        "colab": {
          "base_uri": "https://localhost:8080/"
        },
        "id": "4sL_wrdDfWWb",
        "outputId": "3b8a404d-5087-4c3c-e2a8-7c01c0ccc5b9"
      },
      "execution_count": 2,
      "outputs": [
        {
          "output_type": "stream",
          "name": "stdout",
          "text": [
            "Dataset setelah encoding:\n",
            "   Harga Tanah  Jarak dai pusat kota  Ada angkutan umum  \\\n",
            "0            1                     0                  1   \n",
            "1            2                     0                  1   \n",
            "2            0                     0                  1   \n",
            "3            0                     1                  1   \n",
            "4            0                     2                  1   \n",
            "5            2                     1                  0   \n",
            "6            1                     1                  0   \n",
            "7            1                     2                  1   \n",
            "8            0                     1                  0   \n",
            "9            2                     2                  0   \n",
            "\n",
            "   Dipilih untuk perumahan  \n",
            "0                        0  \n",
            "1                        0  \n",
            "2                        0  \n",
            "3                        1  \n",
            "4                        1  \n",
            "5                        1  \n",
            "6                        1  \n",
            "7                        0  \n",
            "8                        1  \n",
            "9                        0  \n"
          ]
        }
      ]
    },
    {
      "cell_type": "code",
      "source": [
        "# Menghitung probabilitas prior\n",
        "label_counts = encoded_df['Dipilih untuk perumahan'].value_counts()\n",
        "total_samples = len(encoded_df)\n",
        "prior_probs = label_counts / total_samples\n",
        "\n",
        "# Menghitung probabilitas likelihood\n",
        "feature_probs = defaultdict(lambda: defaultdict(lambda: defaultdict(float)))\n",
        "features = ['Harga Tanah', 'Jarak dai pusat kota', 'Ada angkutan umum']\n",
        "target = 'Dipilih untuk perumahan'\n",
        "\n",
        "for feature in features:\n",
        "    for value in encoded_df[feature].unique():\n",
        "        for class_value in encoded_df[target].unique():\n",
        "            num = len(encoded_df[(encoded_df[feature] == value) & (encoded_df[target] == class_value)])\n",
        "            den = label_counts[class_value]\n",
        "            feature_probs[feature][value][class_value] = num / den if den != 0 else 0\n",
        "\n",
        "print(\"\\nProbabilitas Prior:\")\n",
        "print(prior_probs)\n",
        "\n",
        "print(\"\\nProbabilitas Likelihood:\")\n",
        "for feature in features:\n",
        "    print(f\"\\n{feature}:\")\n",
        "    for value in feature_probs[feature]:\n",
        "        for class_value in feature_probs[feature][value]:\n",
        "            print(f\"P({feature}={value} | Kelas={class_value}) = {feature_probs[feature][value][class_value]:.4f}\")"
      ],
      "metadata": {
        "colab": {
          "base_uri": "https://localhost:8080/"
        },
        "id": "uaBNMmh6fWaG",
        "outputId": "b5f37668-4ef4-4b16-cfd0-60e7a0462aff"
      },
      "execution_count": 3,
      "outputs": [
        {
          "output_type": "stream",
          "name": "stdout",
          "text": [
            "\n",
            "Probabilitas Prior:\n",
            "Dipilih untuk perumahan\n",
            "0    0.5\n",
            "1    0.5\n",
            "Name: count, dtype: float64\n",
            "\n",
            "Probabilitas Likelihood:\n",
            "\n",
            "Harga Tanah:\n",
            "P(Harga Tanah=1 | Kelas=0) = 0.4000\n",
            "P(Harga Tanah=1 | Kelas=1) = 0.2000\n",
            "P(Harga Tanah=2 | Kelas=0) = 0.4000\n",
            "P(Harga Tanah=2 | Kelas=1) = 0.2000\n",
            "P(Harga Tanah=0 | Kelas=0) = 0.2000\n",
            "P(Harga Tanah=0 | Kelas=1) = 0.6000\n",
            "\n",
            "Jarak dai pusat kota:\n",
            "P(Jarak dai pusat kota=0 | Kelas=0) = 0.6000\n",
            "P(Jarak dai pusat kota=0 | Kelas=1) = 0.0000\n",
            "P(Jarak dai pusat kota=1 | Kelas=0) = 0.0000\n",
            "P(Jarak dai pusat kota=1 | Kelas=1) = 0.8000\n",
            "P(Jarak dai pusat kota=2 | Kelas=0) = 0.4000\n",
            "P(Jarak dai pusat kota=2 | Kelas=1) = 0.2000\n",
            "\n",
            "Ada angkutan umum:\n",
            "P(Ada angkutan umum=1 | Kelas=0) = 0.8000\n",
            "P(Ada angkutan umum=1 | Kelas=1) = 0.4000\n",
            "P(Ada angkutan umum=0 | Kelas=0) = 0.2000\n",
            "P(Ada angkutan umum=0 | Kelas=1) = 0.6000\n"
          ]
        }
      ]
    },
    {
      "cell_type": "code",
      "source": [
        "# Fungsi untuk menghitung probabilitas posterior berdasarkan prior dan likelihood\n",
        "def calculate_posterior(sample, prior_probs, feature_probs):\n",
        "    posterior_probs = {}\n",
        "    for class_value in prior_probs.index:\n",
        "        posterior = prior_probs[class_value]\n",
        "        for feature, feature_value in sample.items():\n",
        "            likelihood = feature_probs.get(feature, {}).get(feature_value, {}).get(class_value, 0)\n",
        "            if likelihood == 0:\n",
        "                posterior = 0\n",
        "                break\n",
        "            posterior *= likelihood\n",
        "        posterior_probs[class_value] = posterior\n",
        "    return posterior_probs"
      ],
      "metadata": {
        "id": "xKMUX03gfWdY"
      },
      "execution_count": 4,
      "outputs": []
    },
    {
      "cell_type": "code",
      "source": [
        "import pandas as pd\n",
        "\n",
        "# Fungsi untuk memprediksi kelas berdasarkan probabilitas posterior\n",
        "def predict(samples, prior_probs, feature_probs, class_labels):\n",
        "    for i, sample in enumerate(samples, 1):\n",
        "        posterior_probs = calculate_posterior(sample, prior_probs, feature_probs)\n",
        "        print(f\"\\nPrediksi untuk Sampel {i}:\")\n",
        "        for class_value, posterior in posterior_probs.items():\n",
        "            print(f\"P(Kelas={class_labels[class_value]} | Data) = {posterior:.4f}\")\n",
        "        predicted_class = max(posterior_probs, key=posterior_probs.get)\n",
        "        print(f\"Kelas yang diprediksi: {class_labels[predicted_class]}\")\n",
        "\n",
        "# Data probabilitas likelihood\n",
        "feature_probs = {\n",
        "    'Harga Tanah': {\n",
        "        0: {0: 0.2, 1: 0.6},\n",
        "        1: {0: 0.4, 1: 0.2},\n",
        "        2: {0: 0.4, 1: 0.2}\n",
        "    },\n",
        "    'Jarak dari pusat kota': {\n",
        "        0: {0: 0.6, 1: 0.0},\n",
        "        1: {0: 0.0, 1: 0.8},\n",
        "        2: {0: 0.4, 1: 0.2}\n",
        "    },\n",
        "    'Ada angkutan umum': {\n",
        "        0: {0: 0.2, 1: 0.6},\n",
        "        1: {0: 0.8, 1: 0.4}\n",
        "    }\n",
        "}\n",
        "\n",
        "# Probabilitas prior\n",
        "prior_probs = pd.Series({0: 0.5, 1: 0.5})\n",
        "\n",
        "# Daftar sampel data baru\n",
        "sample_data_list = [\n",
        "    pd.Series({'Harga Tanah': 1, 'Jarak dari pusat kota': 1, 'Ada angkutan umum': 1}),\n",
        "    pd.Series({'Harga Tanah': 0, 'Jarak dari pusat kota': 0, 'Ada angkutan umum': 0}),\n",
        "    pd.Series({'Harga Tanah': 0, 'Jarak dari pusat kota': 1, 'Ada angkutan umum': 1})\n",
        "]\n",
        "\n",
        "# Pemetaan kelas\n",
        "class_labels = {0: \"Iya\", 1: \"Tidak\"}\n",
        "\n",
        "# Prediksi\n",
        "predict(sample_data_list, prior_probs, feature_probs, class_labels)"
      ],
      "metadata": {
        "colab": {
          "base_uri": "https://localhost:8080/"
        },
        "id": "WggI5eo3xopv",
        "outputId": "e3036803-5bd5-49d5-ce82-bf0c7b555069"
      },
      "execution_count": 5,
      "outputs": [
        {
          "output_type": "stream",
          "name": "stdout",
          "text": [
            "\n",
            "Prediksi untuk Sampel 1:\n",
            "P(Kelas=Iya | Data) = 0.0000\n",
            "P(Kelas=Tidak | Data) = 0.0320\n",
            "Kelas yang diprediksi: Tidak\n",
            "\n",
            "Prediksi untuk Sampel 2:\n",
            "P(Kelas=Iya | Data) = 0.0120\n",
            "P(Kelas=Tidak | Data) = 0.0000\n",
            "Kelas yang diprediksi: Iya\n",
            "\n",
            "Prediksi untuk Sampel 3:\n",
            "P(Kelas=Iya | Data) = 0.0000\n",
            "P(Kelas=Tidak | Data) = 0.0960\n",
            "Kelas yang diprediksi: Tidak\n"
          ]
        }
      ]
    },
    {
      "cell_type": "code",
      "source": [
        "import numpy as np\n",
        "import pandas as pd\n",
        "from sklearn.model_selection import train_test_split\n",
        "from sklearn.preprocessing import LabelEncoder\n",
        "from sklearn.metrics import accuracy_score, classification_report\n",
        "from collections import defaultdict\n",
        "\n",
        "# Load dataset\n",
        "df = pd.read_excel('/content/Lokasi Perumahan.xlsx')\n",
        "print(\"Dataset:\")\n",
        "print(df)\n",
        "\n",
        "# 1. Encode fitur kategorikal ke nilai numerik\n",
        "le = LabelEncoder()\n",
        "encoded_df = df.copy()\n",
        "\n",
        "for col in encoded_df.columns:\n",
        "    encoded_df[col] = le.fit_transform(encoded_df[col])\n",
        "\n",
        "print(\"Dataset setelah encoding:\")\n",
        "print(encoded_df)\n",
        "\n",
        "# Fungsi untuk menghitung probabilitas prior dan likelihood\n",
        "def calculate_probabilities(X_train, y_train):\n",
        "    prior_probs = y_train.value_counts(normalize=True)\n",
        "    feature_probs = defaultdict(lambda: defaultdict(lambda: defaultdict(float)))\n",
        "    for feature in X_train.columns:\n",
        "        for value in X_train[feature].unique():\n",
        "            for class_value in y_train.unique():\n",
        "                num = len(X_train[(X_train[feature] == value) & (y_train == class_value)]) + 1  # Laplace smoothing\n",
        "                den = y_train.value_counts()[class_value] + len(X_train[feature].unique())  # Adjust denominator\n",
        "                feature_probs[feature][value][class_value] = num / den if den != 0 else 0\n",
        "    return prior_probs, feature_probs\n",
        "\n",
        "# Fungsi untuk menghitung probabilitas posterior berdasarkan prior dan likelihood\n",
        "def calculate_posterior(sample, prior_probs, feature_probs):\n",
        "    posterior_probs = {}\n",
        "    for class_value in prior_probs.index:\n",
        "        posterior = prior_probs[class_value]\n",
        "        for feature, feature_value in sample.items():\n",
        "            likelihood = feature_probs.get(feature, {}).get(feature_value, {}).get(class_value, 0)\n",
        "            if likelihood == 0:\n",
        "                posterior = 0\n",
        "                break\n",
        "            posterior *= likelihood\n",
        "        posterior_probs[class_value] = posterior\n",
        "    return posterior_probs\n",
        "\n",
        "# Fungsi untuk memprediksi kelas berdasarkan probabilitas posterior\n",
        "def predict(samples, prior_probs, feature_probs, class_labels):\n",
        "    predictions = []\n",
        "    for i, sample in enumerate(samples, 1):\n",
        "        posterior_probs = calculate_posterior(sample, prior_probs, feature_probs)\n",
        "        print(f\"\\nPrediksi untuk Sampel {i}:\")\n",
        "        for class_value, posterior in posterior_probs.items():\n",
        "            print(f\"P(Kelas={class_labels[class_value]} | Data) = {posterior:.4f}\")\n",
        "        predicted_class = max(posterior_probs, key=posterior_probs.get)\n",
        "        print(f\"Kelas yang diprediksi: {class_labels[predicted_class]}\")\n",
        "        predictions.append(predicted_class)\n",
        "    return predictions\n",
        "\n",
        "# 2. Split dataset menjadi train dan test dengan proporsi 80/20\n",
        "features = ['Harga Tanah', 'Jarak dai pusat kota', 'Ada angkutan umum']\n",
        "target = 'Dipilih untuk perumahan'\n",
        "\n",
        "X = encoded_df[features]\n",
        "y = encoded_df[target]\n",
        "\n",
        "X_train, X_test, y_train, y_test = train_test_split(X, y, train_size=0.8, test_size=0.2, random_state=42)\n",
        "\n",
        "# 3. Hitung probabilitas prior dan likelihood dari data training\n",
        "prior_probs, feature_probs = calculate_probabilities(X_train, y_train)\n",
        "\n",
        "# 4. Prediksi pada data testing\n",
        "y_pred = X_test.apply(lambda row: max(calculate_posterior(row, prior_probs, feature_probs),\n",
        "                                      key=calculate_posterior(row, prior_probs, feature_probs).get), axis=1)\n",
        "\n",
        "# Evaluasi performa model\n",
        "accuracy = accuracy_score(y_test, y_pred)\n",
        "report = classification_report(y_test, y_pred, output_dict=True)\n",
        "\n",
        "print(f\"\\nHasil evaluasi dengan 80% Training dan 20% Testing:\")\n",
        "print(f\"Akurasi: {accuracy:.2f}\")\n",
        "print(f\"Laporan Klasifikasi:\")\n",
        "print(report)\n",
        "\n",
        "# 5. Prediksi untuk sampel baru\n",
        "sample_data_list = [\n",
        "    pd.Series({'Harga Tanah': 1, 'Jarak dai pusat kota': 1, 'Ada angkutan umum': 1}),\n",
        "    pd.Series({'Harga Tanah': 0, 'Jarak dai pusat kota': 0, 'Ada angkutan umum': 0}),\n",
        "    pd.Series({'Harga Tanah': 0, 'Jarak dai pusat kota': 1, 'Ada angkutan umum': 1})\n",
        "]\n",
        "\n",
        "# Pemetaan kelas\n",
        "class_labels = {0: \"Iya\", 1: \"Tidak\"}\n",
        "\n",
        "print(\"\\nPrediksi menggunakan model dengan 80% Training:\")\n",
        "predict(sample_data_list, prior_probs, feature_probs, class_labels)"
      ],
      "metadata": {
        "id": "OMYeG59KD3Nb",
        "colab": {
          "base_uri": "https://localhost:8080/"
        },
        "outputId": "b5423543-3603-410b-c7f2-31ced156a0da"
      },
      "execution_count": 9,
      "outputs": [
        {
          "output_type": "stream",
          "name": "stdout",
          "text": [
            "Dataset:\n",
            "  Harga Tanah Jarak dai pusat kota Ada angkutan umum Dipilih untuk perumahan\n",
            "0       Murah                Dekat             Tidak                     Iya\n",
            "1      Sedang                Dekat             Tidak                     Iya\n",
            "2       Mahal                Dekat             Tidak                     Iya\n",
            "3       Mahal                 Jauh             Tidak                   Tidak\n",
            "4       Mahal               Sedang             Tidak                   Tidak\n",
            "5      Sedang                 Jauh               Ada                   Tidak\n",
            "6       Murah                 Jauh               Ada                   Tidak\n",
            "7       Murah               Sedang             Tidak                     Iya\n",
            "8       Mahal                 Jauh               Ada                   Tidak\n",
            "9      Sedang               Sedang               Ada                     Iya\n",
            "Dataset setelah encoding:\n",
            "   Harga Tanah  Jarak dai pusat kota  Ada angkutan umum  \\\n",
            "0            1                     0                  1   \n",
            "1            2                     0                  1   \n",
            "2            0                     0                  1   \n",
            "3            0                     1                  1   \n",
            "4            0                     2                  1   \n",
            "5            2                     1                  0   \n",
            "6            1                     1                  0   \n",
            "7            1                     2                  1   \n",
            "8            0                     1                  0   \n",
            "9            2                     2                  0   \n",
            "\n",
            "   Dipilih untuk perumahan  \n",
            "0                        0  \n",
            "1                        0  \n",
            "2                        0  \n",
            "3                        1  \n",
            "4                        1  \n",
            "5                        1  \n",
            "6                        1  \n",
            "7                        0  \n",
            "8                        1  \n",
            "9                        0  \n",
            "\n",
            "Hasil evaluasi dengan 80% Training dan 20% Testing:\n",
            "Akurasi: 1.00\n",
            "Laporan Klasifikasi:\n",
            "{'0': {'precision': 1.0, 'recall': 1.0, 'f1-score': 1.0, 'support': 1.0}, '1': {'precision': 1.0, 'recall': 1.0, 'f1-score': 1.0, 'support': 1.0}, 'accuracy': 1.0, 'macro avg': {'precision': 1.0, 'recall': 1.0, 'f1-score': 1.0, 'support': 2.0}, 'weighted avg': {'precision': 1.0, 'recall': 1.0, 'f1-score': 1.0, 'support': 2.0}}\n",
            "\n",
            "Prediksi menggunakan model dengan 80% Training:\n",
            "\n",
            "Prediksi untuk Sampel 1:\n",
            "P(Kelas=Tidak | Data) = 0.0408\n",
            "P(Kelas=Iya | Data) = 0.0204\n",
            "Kelas yang diprediksi: Tidak\n",
            "\n",
            "Prediksi untuk Sampel 2:\n",
            "P(Kelas=Tidak | Data) = 0.0153\n",
            "P(Kelas=Iya | Data) = 0.0204\n",
            "Kelas yang diprediksi: Iya\n",
            "\n",
            "Prediksi untuk Sampel 3:\n",
            "P(Kelas=Tidak | Data) = 0.0612\n",
            "P(Kelas=Iya | Data) = 0.0136\n",
            "Kelas yang diprediksi: Tidak\n"
          ]
        },
        {
          "output_type": "execute_result",
          "data": {
            "text/plain": [
              "[1, 0, 1]"
            ]
          },
          "metadata": {},
          "execution_count": 9
        }
      ]
    },
    {
      "cell_type": "code",
      "source": [
        "# 2. Split dataset menjadi train dan test dengan proporsi 70/30\n",
        "features = ['Harga Tanah', 'Jarak dai pusat kota', 'Ada angkutan umum']\n",
        "target = 'Dipilih untuk perumahan'\n",
        "\n",
        "X = encoded_df[features]\n",
        "y = encoded_df[target]\n",
        "\n",
        "X_train, X_test, y_train, y_test = train_test_split(X, y, train_size=0.7, test_size=0.3, random_state=42)\n",
        "\n",
        "# 3. Hitung probabilitas prior dan likelihood dari data training\n",
        "prior_probs, feature_probs = calculate_probabilities(X_train, y_train)\n",
        "\n",
        "# 4. Prediksi pada data testing\n",
        "y_pred = X_test.apply(lambda row: max(calculate_posterior(row, prior_probs, feature_probs),\n",
        "                                      key=calculate_posterior(row, prior_probs, feature_probs).get), axis=1)\n",
        "\n",
        "# Evaluasi performa model\n",
        "accuracy = accuracy_score(y_test, y_pred)\n",
        "report = classification_report(y_test, y_pred, output_dict=True)\n",
        "\n",
        "print(f\"\\nHasil evaluasi dengan 70% Training dan 30% Testing:\")\n",
        "print(f\"Akurasi: {accuracy:.2f}\")\n",
        "print(f\"Laporan Klasifikasi:\")\n",
        "print(report)\n",
        "\n",
        "# 5. Prediksi untuk sampel baru\n",
        "sample_data_list = [\n",
        "    pd.Series({'Harga Tanah': 1, 'Jarak dai pusat kota': 1, 'Ada angkutan umum': 1}),\n",
        "    pd.Series({'Harga Tanah': 0, 'Jarak dai pusat kota': 0, 'Ada angkutan umum': 0}),\n",
        "    pd.Series({'Harga Tanah': 0, 'Jarak dai pusat kota': 1, 'Ada angkutan umum': 1})\n",
        "]\n",
        "\n",
        "# Pemetaan kelas\n",
        "class_labels = {0: \"Iya\", 1: \"Tidak\"}\n",
        "\n",
        "print(\"\\nPrediksi menggunakan model dengan 70% Training:\")\n",
        "predict(sample_data_list, prior_probs, feature_probs, class_labels)"
      ],
      "metadata": {
        "colab": {
          "base_uri": "https://localhost:8080/"
        },
        "id": "CTYdcDxMNAM8",
        "outputId": "76df7024-f56c-4c50-c991-3a007340ce94"
      },
      "execution_count": 10,
      "outputs": [
        {
          "output_type": "stream",
          "name": "stdout",
          "text": [
            "\n",
            "Hasil evaluasi dengan 70% Training dan 30% Testing:\n",
            "Akurasi: 1.00\n",
            "Laporan Klasifikasi:\n",
            "{'0': {'precision': 1.0, 'recall': 1.0, 'f1-score': 1.0, 'support': 1.0}, '1': {'precision': 1.0, 'recall': 1.0, 'f1-score': 1.0, 'support': 2.0}, 'accuracy': 1.0, 'macro avg': {'precision': 1.0, 'recall': 1.0, 'f1-score': 1.0, 'support': 3.0}, 'weighted avg': {'precision': 1.0, 'recall': 1.0, 'f1-score': 1.0, 'support': 3.0}}\n",
            "\n",
            "Prediksi menggunakan model dengan 70% Training:\n",
            "\n",
            "Prediksi untuk Sampel 1:\n",
            "P(Kelas=Iya | Data) = 0.0233\n",
            "P(Kelas=Tidak | Data) = 0.0429\n",
            "Kelas yang diprediksi: Tidak\n",
            "\n",
            "Prediksi untuk Sampel 2:\n",
            "P(Kelas=Iya | Data) = 0.0233\n",
            "P(Kelas=Tidak | Data) = 0.0143\n",
            "Kelas yang diprediksi: Iya\n",
            "\n",
            "Prediksi untuk Sampel 3:\n",
            "P(Kelas=Iya | Data) = 0.0155\n",
            "P(Kelas=Tidak | Data) = 0.0643\n",
            "Kelas yang diprediksi: Tidak\n"
          ]
        },
        {
          "output_type": "execute_result",
          "data": {
            "text/plain": [
              "[1, 0, 1]"
            ]
          },
          "metadata": {},
          "execution_count": 10
        }
      ]
    },
    {
      "cell_type": "code",
      "source": [
        "# 2. Split dataset menjadi train dan test dengan proporsi 60/40\n",
        "features = ['Harga Tanah', 'Jarak dai pusat kota', 'Ada angkutan umum']\n",
        "target = 'Dipilih untuk perumahan'\n",
        "\n",
        "X = encoded_df[features]\n",
        "y = encoded_df[target]\n",
        "\n",
        "X_train, X_test, y_train, y_test = train_test_split(X, y, train_size=0.6, test_size=0.4, random_state=42)\n",
        "\n",
        "# 3. Hitung probabilitas prior dan likelihood dari data training\n",
        "prior_probs, feature_probs = calculate_probabilities(X_train, y_train)\n",
        "\n",
        "# 4. Prediksi pada data testing\n",
        "y_pred = X_test.apply(lambda row: max(calculate_posterior(row, prior_probs, feature_probs),\n",
        "                                      key=calculate_posterior(row, prior_probs, feature_probs).get), axis=1)\n",
        "\n",
        "# Evaluasi performa model\n",
        "accuracy = accuracy_score(y_test, y_pred)\n",
        "report = classification_report(y_test, y_pred, output_dict=True)\n",
        "\n",
        "print(f\"\\nHasil evaluasi dengan 60% Training dan 40% Testing:\")\n",
        "print(f\"Akurasi: {accuracy:.2f}\")\n",
        "print(f\"Laporan Klasifikasi:\")\n",
        "print(report)\n",
        "\n",
        "# 5. Prediksi untuk sampel baru\n",
        "sample_data_list = [\n",
        "    pd.Series({'Harga Tanah': 1, 'Jarak dai pusat kota': 1, 'Ada angkutan umum': 1}),\n",
        "    pd.Series({'Harga Tanah': 0, 'Jarak dai pusat kota': 0, 'Ada angkutan umum': 0}),\n",
        "    pd.Series({'Harga Tanah': 0, 'Jarak dai pusat kota': 1, 'Ada angkutan umum': 1})\n",
        "]\n",
        "\n",
        "# Pemetaan kelas\n",
        "class_labels = {0: \"Iya\", 1: \"Tidak\"}\n",
        "\n",
        "print(\"\\nPrediksi menggunakan model dengan 60% Training:\")\n",
        "predict(sample_data_list, prior_probs, feature_probs, class_labels)"
      ],
      "metadata": {
        "colab": {
          "base_uri": "https://localhost:8080/"
        },
        "id": "tU-Tcy-3NAGe",
        "outputId": "a100c6ad-767c-4d72-b797-6e044d2e4e46"
      },
      "execution_count": 13,
      "outputs": [
        {
          "output_type": "stream",
          "name": "stdout",
          "text": [
            "\n",
            "Hasil evaluasi dengan 60% Training dan 40% Testing:\n",
            "Akurasi: 1.00\n",
            "Laporan Klasifikasi:\n",
            "{'0': {'precision': 1.0, 'recall': 1.0, 'f1-score': 1.0, 'support': 2.0}, '1': {'precision': 1.0, 'recall': 1.0, 'f1-score': 1.0, 'support': 2.0}, 'accuracy': 1.0, 'macro avg': {'precision': 1.0, 'recall': 1.0, 'f1-score': 1.0, 'support': 4.0}, 'weighted avg': {'precision': 1.0, 'recall': 1.0, 'f1-score': 1.0, 'support': 4.0}}\n",
            "\n",
            "Prediksi menggunakan model dengan 60% Training:\n",
            "\n",
            "Prediksi untuk Sampel 1:\n",
            "P(Kelas=Iya | Data) = 0.0167\n",
            "P(Kelas=Tidak | Data) = 0.0500\n",
            "Kelas yang diprediksi: Tidak\n",
            "\n",
            "Prediksi untuk Sampel 2:\n",
            "P(Kelas=Iya | Data) = 0.0222\n",
            "P(Kelas=Tidak | Data) = 0.0167\n",
            "Kelas yang diprediksi: Iya\n",
            "\n",
            "Prediksi untuk Sampel 3:\n",
            "P(Kelas=Iya | Data) = 0.0167\n",
            "P(Kelas=Tidak | Data) = 0.0750\n",
            "Kelas yang diprediksi: Tidak\n"
          ]
        },
        {
          "output_type": "execute_result",
          "data": {
            "text/plain": [
              "[1, 0, 1]"
            ]
          },
          "metadata": {},
          "execution_count": 13
        }
      ]
    },
    {
      "cell_type": "markdown",
      "source": [
        "\n",
        "\n",
        "\n",
        "---\n",
        "\n"
      ],
      "metadata": {
        "id": "IoxYqejWNlN-"
      }
    },
    {
      "cell_type": "markdown",
      "source": [
        "# **DONE HERE!**"
      ],
      "metadata": {
        "id": "_AfQiLCEWuKy"
      }
    },
    {
      "cell_type": "markdown",
      "source": [
        "# **FURTHER ADDITIONAL**"
      ],
      "metadata": {
        "id": "PtmcDeCKNloY"
      }
    },
    {
      "cell_type": "code",
      "source": [
        "from sklearn.model_selection import train_test_split\n",
        "from collections import defaultdict\n",
        "\n",
        "# Fungsi evaluasi dengan split data\n",
        "def evaluate_with_split(X, y, train_size, test_size):\n",
        "    # Membagi data menjadi training dan testing\n",
        "    X_train, X_test, y_train, y_test = train_test_split(\n",
        "        X, y, train_size=train_size, test_size=test_size, random_state=42\n",
        "    )\n",
        "\n",
        "    # Menghitung probabilitas prior dan likelihood\n",
        "    train_prior_probs = y_train.value_counts(normalize=True)\n",
        "    train_feature_probs = defaultdict(lambda: defaultdict(lambda: defaultdict(float)))\n",
        "    for feature in X_train.columns:\n",
        "        for value in X_train[feature].unique():\n",
        "            for class_value in y_train.unique():\n",
        "                num = len(X_train[(X_train[feature] == value) & (y_train == class_value)])\n",
        "                den = y_train.value_counts()[class_value]\n",
        "                train_feature_probs[feature][value][class_value] = num / den if den != 0 else 0\n",
        "\n",
        "    # Prediksi pada data testing\n",
        "    def predict_row(row):\n",
        "        posterior_probs = calculate_posterior(row, train_prior_probs, train_feature_probs)\n",
        "        return max(posterior_probs, key=posterior_probs.get)\n",
        "\n",
        "    y_pred = X_test.apply(predict_row, axis=1)\n",
        "\n",
        "    # Evaluasi\n",
        "    accuracy = accuracy_score(y_test, y_pred)\n",
        "    report = classification_report(y_test, y_pred, output_dict=True)\n",
        "\n",
        "    return accuracy, report"
      ],
      "metadata": {
        "id": "6C7DIn3OfWgS"
      },
      "execution_count": 14,
      "outputs": []
    },
    {
      "cell_type": "code",
      "source": [
        "# Fungsi untuk menghitung prior dan likelihood\n",
        "def calculate_probabilities(X_train, y_train):\n",
        "    prior_probs = y_train.value_counts(normalize=True)\n",
        "    feature_probs = defaultdict(lambda: defaultdict(lambda: defaultdict(float)))\n",
        "    for feature in X_train.columns:\n",
        "        for value in X_train[feature].unique():\n",
        "            for class_value in y_train.unique():\n",
        "                num = len(X_train[(X_train[feature] == value) & (y_train == class_value)]) + 1\n",
        "                den = y_train.value_counts()[class_value] + len(X_train[feature].unique())\n",
        "                feature_probs[feature][value][class_value] = num / den if den != 0 else 0\n",
        "    return prior_probs, feature_probs\n",
        "\n",
        "# Fungsi evaluasi dengan split data\n",
        "def evaluate_with_split(X, y, train_size, test_size):\n",
        "    X_train, X_test, y_train, y_test = train_test_split(\n",
        "        X, y, train_size=train_size, test_size=test_size, random_state=42\n",
        "    )\n",
        "\n",
        "    # Hitung prior dan likelihood\n",
        "    prior_probs, feature_probs = calculate_probabilities(X_train, y_train)\n",
        "\n",
        "    # Prediksi pada data testing\n",
        "    def predict_row(row):\n",
        "        posterior_probs = calculate_posterior(row, prior_probs, feature_probs)\n",
        "        return max(posterior_probs, key=posterior_probs.get)\n",
        "\n",
        "    y_pred = X_test.apply(predict_row, axis=1)\n",
        "\n",
        "    # Evaluasi\n",
        "    accuracy = accuracy_score(y_test, y_pred)\n",
        "    report = classification_report(y_test, y_pred, output_dict=True)\n",
        "\n",
        "    return accuracy, report, prior_probs, feature_probs\n",
        "\n",
        "# Fungsi untuk memprediksi sampel\n",
        "def predict(samples, prior_probs, feature_probs, class_labels):\n",
        "    for i, sample in enumerate(samples, 1):\n",
        "        posterior_probs = calculate_posterior(sample, prior_probs, feature_probs)\n",
        "        print(f\"\\nPrediksi untuk Sampel {i}:\")\n",
        "        for class_value, posterior in posterior_probs.items():\n",
        "            print(f\"P(Kelas={class_labels[class_value]} | Data) = {posterior:.4f}\")\n",
        "        predicted_class = max(posterior_probs, key=posterior_probs.get)\n",
        "        print(f\"Kelas yang diprediksi: {class_labels[predicted_class]}\")\n",
        "\n",
        "# Input dataset\n",
        "encoded_df = pd.DataFrame({\n",
        "    'Harga Tanah': [1, 0, 2, 1, 0],\n",
        "    'Jarak dari pusat kota': [0, 1, 2, 0, 1],\n",
        "    'Ada angkutan umum': [1, 0, 1, 0, 1],\n",
        "    'Dipilih untuk perumahan': [1, 0, 1, 1, 0]\n",
        "})\n",
        "\n",
        "X = encoded_df.drop(columns='Dipilih untuk perumahan')\n",
        "y = encoded_df['Dipilih untuk perumahan']\n",
        "\n",
        "# Evaluasi dengan 80% Training, 20% Testing\n",
        "accuracy_80, report_80, prior_probs_80, feature_probs_80 = evaluate_with_split(X, y, train_size=0.8, test_size=0.2)\n",
        "results = {\"80% Training, 20% Testing\": {\"accuracy\": accuracy_80, \"report\": report_80}}\n",
        "\n",
        "# Tampilkan hasil evaluasi\n",
        "print(f\"\\nHasil evaluasi dengan 80% Training dan 20% Testing:\")\n",
        "print(f\"Akurasi: {accuracy_80:.2f}\")\n",
        "print(f\"Laporan Klasifikasi:\")\n",
        "print(report_80)\n",
        "\n",
        "# Daftar sampel data baru untuk pengujian\n",
        "sample_data_list = [\n",
        "    pd.Series({'Harga Tanah': 1, 'Jarak dari pusat kota': 1, 'Ada angkutan umum': 1}),\n",
        "    pd.Series({'Harga Tanah': 0, 'Jarak dari pusat kota': 0, 'Ada angkutan umum': 0}),\n",
        "    pd.Series({'Harga Tanah': 0, 'Jarak dari pusat kota': 1, 'Ada angkutan umum': 1})\n",
        "]\n",
        "\n",
        "# Pemetaan kelas\n",
        "class_labels = {0: \"Iya\", 1: \"Tidak\"}\n",
        "\n",
        "# Prediksi untuk sampel baru\n",
        "print(\"\\nPrediksi menggunakan model dengan 80% Training:\")\n",
        "predict(sample_data_list, prior_probs_80, feature_probs_80, class_labels)"
      ],
      "metadata": {
        "colab": {
          "base_uri": "https://localhost:8080/"
        },
        "id": "OFiV9rB9_602",
        "outputId": "7860c053-7b9d-44ad-dcfe-9db537148210"
      },
      "execution_count": 15,
      "outputs": [
        {
          "output_type": "stream",
          "name": "stdout",
          "text": [
            "\n",
            "Hasil evaluasi dengan 80% Training dan 20% Testing:\n",
            "Akurasi: 1.00\n",
            "Laporan Klasifikasi:\n",
            "{'0': {'precision': 1.0, 'recall': 1.0, 'f1-score': 1.0, 'support': 1.0}, 'accuracy': 1.0, 'macro avg': {'precision': 1.0, 'recall': 1.0, 'f1-score': 1.0, 'support': 1.0}, 'weighted avg': {'precision': 1.0, 'recall': 1.0, 'f1-score': 1.0, 'support': 1.0}}\n",
            "\n",
            "Prediksi menggunakan model dengan 80% Training:\n",
            "\n",
            "Prediksi untuk Sampel 1:\n",
            "P(Kelas=Tidak | Data) = 0.0375\n",
            "P(Kelas=Iya | Data) = 0.0208\n",
            "Kelas yang diprediksi: Tidak\n",
            "\n",
            "Prediksi untuk Sampel 2:\n",
            "P(Kelas=Tidak | Data) = 0.0250\n",
            "P(Kelas=Iya | Data) = 0.0104\n",
            "Kelas yang diprediksi: Tidak\n",
            "\n",
            "Prediksi untuk Sampel 3:\n",
            "P(Kelas=Tidak | Data) = 0.0125\n",
            "P(Kelas=Iya | Data) = 0.0417\n",
            "Kelas yang diprediksi: Iya\n"
          ]
        }
      ]
    },
    {
      "cell_type": "code",
      "source": [],
      "metadata": {
        "id": "QvLMGH_L_afo"
      },
      "execution_count": null,
      "outputs": []
    },
    {
      "cell_type": "markdown",
      "source": [
        "## ***REMINDER FOR ME: MAKE SURE TO CLEAN CODE FOR FUTURE UNDERSTANDING***"
      ],
      "metadata": {
        "id": "IhqIHLeT8y1V"
      }
    }
  ]
}